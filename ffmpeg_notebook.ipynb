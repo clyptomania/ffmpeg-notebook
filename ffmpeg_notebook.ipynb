{
 "cells": [
  {
   "cell_type": "markdown",
   "metadata": {},
   "source": [
    "# ffmpeg: \n",
    "## dealing with tons of images"
   ]
  },
  {
   "attachments": {},
   "cell_type": "markdown",
   "metadata": {},
   "source": [
    "![text](https://inductivebiblestudyapp.com/wp-content/uploads/2017/06/godhands-820x400.jpg)"
   ]
  },
  {
   "cell_type": "markdown",
   "metadata": {},
   "source": [
    "# Table of Content\n",
    "\n",
    "\n",
    "## • Set-Up your workspace: \n",
    "    • Installation of ffmpeg\n",
    "    • set up working directory \n",
    "    • move your files to right directory\n",
    "\n",
    "\n",
    "## • ffmpeg tools:\n",
    "    1. ffmpeg: Scale Pictures\n",
    "    2. ffmpeg: JPEG --> PNG \n",
    "    3. ffmpeg: PNG --> JPE \n",
    "    4. ffmpeg: ffmpeg: image.png + no alpha \n",
    "    5. ffmpeg: video --> .jpg sequence\n",
    "    6. ffmpeg: .jpg sequence --> video\n",
    "\n",
    "\n",
    "## • Other tools: \n",
    "    1. Bulk re-name files\n",
    "        • option 1\n",
    "        • option 2\n",
    "\n",
    "\n",
    "--------------\n",
    "--------------\n",
    "--------------\n",
    "--------------\n",
    "--------------\n",
    "--------------\n",
    "--------------\n",
    "--------------\n",
    "\n",
    "## • Set-Up your workspace:\n",
    "\n",
    "# <font color='blue'>• Installation of ffmpeg</font>\n"
   ]
  },
  {
   "cell_type": "code",
   "execution_count": null,
   "metadata": {},
   "outputs": [],
   "source": [
    "!pip install ffmpeg"
   ]
  },
  {
   "cell_type": "markdown",
   "metadata": {},
   "source": [
    "\n",
    "# <font color='blue'>• set up working directory</font>\n",
    "\n",
    "Now that we've got our requirements installed we need to set up our working directory.\n",
    "Let's create a new folder called \"ffmpeg_workstation\" within the user directory.\n",
    "Within that folder we then create two subdirectories \"raw_images\" and \"edited_images\".\n",
    "Create new directory:\n",
    "\n",
    "    •• ffmpeg_workstation\n",
    "         • 1_raw_images\n",
    "         • 2_edited_images\n",
    "\n",
    "create directory:"
   ]
  },
  {
   "cell_type": "code",
   "execution_count": null,
   "metadata": {},
   "outputs": [],
   "source": [
    "%%bash\n",
    "cd \n",
    "mkdir ffmpeg_workstation\n",
    "cd ffmpeg_workstation\n",
    "mkdir 1_raw_images 2_edited_images"
   ]
  },
  {
   "cell_type": "markdown",
   "metadata": {},
   "source": [
    "\n",
    "\n",
    "## <font color='blue'>• move your files to right directory</font>\n",
    "__Here you have 2 options:__\n",
    "\n",
    "                                             | \n",
    "    1. manually using drag'n'drop            |        2. using command line to move your files\n",
    "    ------------------------------------------------------------------------------------------\n",
    "                                             | \n",
    "      • If you use this option               |           • All you have to do is to\n",
    "        you can ignore the next              |             adjust the first path:\n",
    "        command.                             |             \n",
    "                                             |                ~/Desktop/your_source_folder/*\n",
    "      • Just move your files to              |           \n",
    "        folder: 1_raw_images                 |             \n",
    "                                             |           • replace this path with \n",
    "      • Continue with your                   |             your path and run the \n",
    "        desired ffmpeg command.              |             command to move your \n",
    "                                             |             files\n",
    "                                             | "
   ]
  },
  {
   "cell_type": "code",
   "execution_count": null,
   "metadata": {},
   "outputs": [],
   "source": [
    "%%bash\n",
    "cd\n",
    "mv ~/Desktop/your_source_folder/* ~/ffmpeg_workstation/1_raw_images"
   ]
  },
  {
   "cell_type": "markdown",
   "metadata": {},
   "source": [
    "--------------\n",
    "--------------\n",
    "--------------\n",
    "--------------\n",
    "--------------\n",
    "--------------\n",
    "--------------\n",
    "--------------\n",
    "## ffmpeg tools:\n",
    "--------------\n",
    "--------------\n",
    "--------------\n",
    "--------------\n",
    "\n",
    "# 1.\n",
    "# <font color='blue'>ffmpeg: Scale pictures </font>\n",
    "\n",
    "\n",
    "adjust the scale = __512x512__\n",
    "\n"
   ]
  },
  {
   "cell_type": "code",
   "execution_count": null,
   "metadata": {},
   "outputs": [],
   "source": [
    "%%bash\n",
    "cd\n",
    "cd ~/ffmpeg_workstation/1_raw_images\n",
    "sh\n",
    "for file in *; do\n",
    "      ffmpeg -i \\\n",
    "      \\\n",
    "      ~/ffmpeg_workstation/1_raw_images/\"$file\" \\\n",
    "      \\\n",
    "      -vf scale=512:512 \\\n",
    "      \\\n",
    "      ~/ffmpeg_workstation/2_edited_images/\"${file%}\"\n",
    "done "
   ]
  },
  {
   "cell_type": "markdown",
   "metadata": {},
   "source": [
    "--------------\n",
    "--------------\n",
    "--------------\n",
    "--------------\n",
    "# 2.\n",
    "# <font color='blue'>ffmpeg: JPEG --> PNG</font>"
   ]
  },
  {
   "cell_type": "code",
   "execution_count": null,
   "metadata": {},
   "outputs": [],
   "source": [
    "%%bash\n",
    "cd\n",
    "cd ~/ffmpeg_workstation/1_raw_images\n",
    "sh\n",
    "for file in *; do\n",
    "      ffmpeg -i \\\n",
    "      \\\n",
    "      ~/ffmpeg_workstation/1_raw_images/\"$file\" \\\n",
    "      \\\n",
    "      ~/ffmpeg_workstation/2_edited_images/\"${file%.jpg}\".png\n",
    "done"
   ]
  },
  {
   "cell_type": "markdown",
   "metadata": {},
   "source": [
    "--------------\n",
    "--------------\n",
    "--------------\n",
    "--------------\n",
    "# 3.\n",
    "# <font color='blue'>ffmpeg: PNG --> JPEG</font>"
   ]
  },
  {
   "cell_type": "code",
   "execution_count": null,
   "metadata": {},
   "outputs": [],
   "source": [
    "%%bash\n",
    "cd\n",
    "cd ~/ffmpeg_workstation/1_raw_images\n",
    "sh\n",
    "for file in *; do\n",
    "      ffmpeg -i \\\n",
    "      \\\n",
    "      ~/ffmpeg_workstation/1_raw_images/\"$file\" \\\n",
    "      \\\n",
    "      ~/ffmpeg_workstation/2_edited_images/\"${file%.png}\".jpg\n",
    "done"
   ]
  },
  {
   "cell_type": "markdown",
   "metadata": {},
   "source": [
    "--------------\n",
    "--------------\n",
    "--------------\n",
    "--------------\n",
    "\n",
    "# 4. \n",
    "# <font color='blue'>ffmpeg: image.png + no alpha</font>"
   ]
  },
  {
   "cell_type": "code",
   "execution_count": null,
   "metadata": {},
   "outputs": [],
   "source": []
  },
  {
   "cell_type": "markdown",
   "metadata": {},
   "source": [
    "--------------\n",
    "--------------\n",
    "--------------\n",
    "--------------\n",
    "# 5. \n",
    "# <font color='blue'>ffmpeg: video --> .jpg sequence</font>"
   ]
  },
  {
   "cell_type": "code",
   "execution_count": null,
   "metadata": {},
   "outputs": [],
   "source": []
  },
  {
   "cell_type": "markdown",
   "metadata": {},
   "source": [
    "--------------\n",
    "--------------\n",
    "--------------\n",
    "--------------\n",
    "# 6.\n",
    "# <font color='blue'>ffmpeg: .jpg sequence --> video</font>"
   ]
  },
  {
   "cell_type": "code",
   "execution_count": null,
   "metadata": {},
   "outputs": [],
   "source": []
  },
  {
   "cell_type": "markdown",
   "metadata": {},
   "source": [
    "--------------\n",
    "--------------\n",
    "--------------\n",
    "--------------\n",
    "--------------\n",
    "--------------\n",
    "--------------\n",
    "--------------\n",
    "## Other tools:\n",
    "--------------\n",
    "--------------\n",
    "--------------\n",
    "--------------\n",
    "# 1.\n",
    "# <font color='blue'>Bulk re-name files</font>\n",
    "\n",
    "directory: __~/ffmpeg_workstation/1_raw_images__\n",
    "\n",
    "Adjust the path if needed\n",
    "\n",
    "              \n",
    "\n",
    "\n",
    "## Option 1\n",
    "   \n",
    "If you have __1 folder__ with JPGs and you want to rename them\n",
    "\n",
    "                      ----> \n",
    "        •folder                   •folder\n",
    "            *.jpg                     00001.jpg\n",
    "            *.jpg                     00002.jpg\n",
    "            *.jpg                     00003.jpg\n",
    "            *.jpg                     00004.jpg\n",
    "            *.jpg                     00005.jpg\n",
    "            *.jpg                     00006.jpg\n",
    "            *.jpg                     00007.jpg\n",
    "            *.jpg                     00008.jpg\n",
    "            *.jpg                        ...jpg\n"
   ]
  },
  {
   "cell_type": "code",
   "execution_count": null,
   "metadata": {},
   "outputs": [],
   "source": [
    "%%bash\n",
    "cd \n",
    "cd ~/ffmpeg_workstation/1_raw_images\n",
    "sh\n",
    "a=1\n",
    "for i in *jpg; do\n",
    "  new=$(printf \"%05d.jpg\" \"$a\")\n",
    "  mv -i -- \"$i\" \"$new\"\n",
    "  let a=a+1\n",
    "done"
   ]
  },
  {
   "cell_type": "markdown",
   "metadata": {},
   "source": [
    " \n",
    "## Option 2 \n",
    "   \n",
    "If you have __many folders__ and you want to collect all the JPGs from __all sub-directories__ and rename them\n",
    "\n",
    "                      ----> \n",
    "    •folder                       •folder\n",
    "        ••folder                      00001.jpg\n",
    "            *.jpg                     00002.jpg\n",
    "            *.jpg                     00003.jpg\n",
    "            *.jpg                     00004.jpg\n",
    "            *.jpg                     00005.jpg\n",
    "        ••folder                      00006.jpg\n",
    "            *.jpg                     00007.jpg\n",
    "            *.jpg                     00008.jpg\n",
    "            *.jpg                        ...jpg\n",
    "            *.jpg                     ••folder (now empty)\n",
    "                                      ••folder (now empty)"
   ]
  },
  {
   "cell_type": "code",
   "execution_count": null,
   "metadata": {},
   "outputs": [],
   "source": [
    "%%bash\n",
    "cd \n",
    "cd ~/ffmpeg_workstation/1_raw_images\n",
    "sh\n",
    "a=1\n",
    "for i in */*jpg; do\n",
    "  new=$(printf \"%05d.jpg\" \"$a\")\n",
    "  mv -i -- \"$i\" \"$new\"\n",
    "  let a=a+1\n",
    "done"
   ]
  },
  {
   "cell_type": "markdown",
   "metadata": {},
   "source": [
    "--------------\n",
    "--------------\n",
    "--------------\n",
    "--------------\n",
    "\n",
    "# Links: \n",
    "\n",
    "https://www.oodlestechnologies.com/blogs/Crop-and-scale-image-using-ffmpeg/\n",
    "\n",
    "https://github.com/xiumingzhang/cheatsheets/blob/master/ffmpeg-imagemagick.md\n",
    "\n",
    "https://trac.ffmpeg.org/wiki\n",
    "\n",
    "http://ericholsinger.com/install-ffmpeg-on-a-mac\n",
    "\n",
    "https://askubuntu.com/questions/700896/how-do-i-transcode-all-files-in-a-directory-with-ffmpeg\n",
    "\n",
    "\n"
   ]
  }
 ],
 "metadata": {
  "kernelspec": {
   "display_name": "Python 3",
   "language": "python",
   "name": "python3"
  },
  "language_info": {
   "codemirror_mode": {
    "name": "ipython",
    "version": 3
   },
   "file_extension": ".py",
   "mimetype": "text/x-python",
   "name": "python",
   "nbconvert_exporter": "python",
   "pygments_lexer": "ipython3",
   "version": "3.6.8"
  }
 },
 "nbformat": 4,
 "nbformat_minor": 4
}
